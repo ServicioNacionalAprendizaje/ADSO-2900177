{
 "cells": [
  {
   "cell_type": "markdown",
   "metadata": {},
   "source": [
    "#### 3 Se requiere saber el descuento que se aplica al total de la factura de los clientes de Pepito Perez. Se sabe que:\n",
    "1. Solicitar el nombre del producto a comprar.\n",
    "2. Solicitar el valor unitario del producto\n",
    "3. Solcitar la cantidad de que desea llevar el cliente. \n",
    "4. Aplicar el el 8% sobre el total de la compra\n",
    "5. Mostrar por pantalla, el nombre del producto, cuando se debia pagar antes de descuento, valor a pagar neto y  el valor de descuento que se aplicó."
   ]
  },
  {
   "cell_type": "code",
   "execution_count": 1,
   "metadata": {},
   "outputs": [],
   "source": [
    "# Ejemplo 1\n",
    "\n",
    "nombreProducto = \"\"\n",
    "ValorUnitario = 0.0\n",
    "ValorBruto = 0.0\n",
    "ValorTotalNeto = 0.0\n",
    "ValorDescuento = 0.0\n",
    "cantidad = 0\n",
    "\n",
    "#Entrada de datos \n",
    "nombreProducto = input(\"Digite el nombre del producto: \")\n",
    "ValorUnitario = input(\"Digite el valor unitario del producto: \")\t\n",
    "cantidad = input(\"Digite la cantidad de \"+nombreProducto+\" a comprar: \")\n",
    "\n",
    "# Proceso\n",
    "ValorBruto = cantidad * ValorUnitario\t\n",
    "ValorDescuento = ValorTotalNeto * 0.08\n",
    "ValorTotalNeto = ValorBruto - ValorDescuento\n",
    "\n",
    "print(\"Valor bruto de \"+nombreProducto+\" es: \"+str(ValorBruto))\n",
    "print(\"Valor neto de \"+nombreProducto+\" es: \"+str(ValorTotalNeto))\n",
    "print(\"Valor de descuento de \"+nombreProducto+\" es: \"+str(ValorDescuento))\n",
    "\t\n"
   ]
  }
 ],
 "metadata": {
  "kernelspec": {
   "display_name": "Python 3",
   "language": "python",
   "name": "python3"
  },
  "language_info": {
   "codemirror_mode": {
    "name": "ipython",
    "version": 3
   },
   "file_extension": ".py",
   "mimetype": "text/x-python",
   "name": "python",
   "nbconvert_exporter": "python",
   "pygments_lexer": "ipython3",
   "version": "3.12.0"
  }
 },
 "nbformat": 4,
 "nbformat_minor": 2
}
